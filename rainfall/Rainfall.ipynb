{
  "cells": [
    {
      "cell_type": "markdown",
      "source": [
        "# Rainfall Estimates for 2018-19 season\n",
        "\n",
        "looking for the antecedent to the 2019 rainstorm\n"
      ],
      "metadata": {}
    },
    {
      "cell_type": "markdown",
      "source": [
        "## Set up"
      ],
      "metadata": {}
    },
    {
      "cell_type": "code",
      "source": [
        "import pandas as pd\n",
        "import numpy as np\n",
        "import matplotlib.pyplot as plt\n",
        "import seaborn as sns\n",
        "%matplotlib inline\n",
        "\n",
        "sns.set(rc={'figure.figsize':(11, 4)})"
      ],
      "outputs": [],
      "execution_count": 14,
      "metadata": {}
    },
    {
      "cell_type": "markdown",
      "source": [
        "## Importing data from MH weather station\n",
        "\n",
        "CSV contains rain data from Oct 1 2018 to Feb 27 2019\n",
        "\n",
        "Data recorded every 15 minutes"
      ],
      "metadata": {}
    },
    {
      "cell_type": "code",
      "source": [
        "MH_weather_station = pd.read_csv('JerrysMHRain-2019-02-27.csv')\n",
        "del MH_weather_station['datetime.1']\n",
        "MH_weather_station.head(3)"
      ],
      "outputs": [
        {
          "output_type": "execute_result",
          "execution_count": 98,
          "data": {
            "text/html": [
              "<div>\n",
              "<style scoped>\n",
              "    .dataframe tbody tr th:only-of-type {\n",
              "        vertical-align: middle;\n",
              "    }\n",
              "\n",
              "    .dataframe tbody tr th {\n",
              "        vertical-align: top;\n",
              "    }\n",
              "\n",
              "    .dataframe thead th {\n",
              "        text-align: right;\n",
              "    }\n",
              "</style>\n",
              "<table border=\"1\" class=\"dataframe\">\n",
              "  <thead>\n",
              "    <tr style=\"text-align: right;\">\n",
              "      <th></th>\n",
              "      <th>datetime</th>\n",
              "      <th>RainFall</th>\n",
              "      <th>cumulativeRain</th>\n",
              "    </tr>\n",
              "  </thead>\n",
              "  <tbody>\n",
              "    <tr>\n",
              "      <th>0</th>\n",
              "      <td>2018-10-01 00:00:00</td>\n",
              "      <td>0.0</td>\n",
              "      <td>0.0</td>\n",
              "    </tr>\n",
              "    <tr>\n",
              "      <th>1</th>\n",
              "      <td>2018-10-01 00:15:00</td>\n",
              "      <td>0.0</td>\n",
              "      <td>0.0</td>\n",
              "    </tr>\n",
              "    <tr>\n",
              "      <th>2</th>\n",
              "      <td>2018-10-01 00:30:00</td>\n",
              "      <td>0.0</td>\n",
              "      <td>0.0</td>\n",
              "    </tr>\n",
              "  </tbody>\n",
              "</table>\n",
              "</div>"
            ],
            "text/plain": [
              "              datetime  RainFall  cumulativeRain\n",
              "0  2018-10-01 00:00:00       0.0             0.0\n",
              "1  2018-10-01 00:15:00       0.0             0.0\n",
              "2  2018-10-01 00:30:00       0.0             0.0"
            ]
          },
          "metadata": {}
        }
      ],
      "execution_count": 98,
      "metadata": {}
    },
    {
      "cell_type": "code",
      "source": [
        "MH_weather_station['datetime'] =  pd.to_datetime(MH_weather_station['datetime'])\n",
        "MH_weather_station.dtypes"
      ],
      "outputs": [
        {
          "output_type": "execute_result",
          "execution_count": 99,
          "data": {
            "text/plain": [
              "datetime          datetime64[ns]\n",
              "RainFall                 float64\n",
              "cumulativeRain           float64\n",
              "dtype: object"
            ]
          },
          "metadata": {}
        }
      ],
      "execution_count": 99,
      "metadata": {}
    },
    {
      "cell_type": "code",
      "source": [
        "MH_weather_station = MH_weather_station[(MH_weather_station['datetime'] > '2019-01-18') & (MH_weather_station['datetime'] <= '2019-02-18')]\n",
        "MH_weather_station = MH_weather_station.set_index('datetime').cumsum()"
      ],
      "outputs": [],
      "execution_count": 100,
      "metadata": {}
    },
    {
      "cell_type": "markdown",
      "source": [
        "## Importing Rhonda's rain data \n",
        "\n",
        "CSV contains information from Jan 18 2017 to Jul 12 2019 \n",
        "\n",
        "Data recorded every 12 minutes"
      ],
      "metadata": {}
    },
    {
      "cell_type": "code",
      "source": [
        "Rhonda_weather_station = pd.read_csv('AVR_weather_thru042817.csv')\n",
        "Rhonda_weather_station.head()"
      ],
      "outputs": [
        {
          "output_type": "execute_result",
          "execution_count": 18,
          "data": {
            "text/html": [
              "<div>\n",
              "<style scoped>\n",
              "    .dataframe tbody tr th:only-of-type {\n",
              "        vertical-align: middle;\n",
              "    }\n",
              "\n",
              "    .dataframe tbody tr th {\n",
              "        vertical-align: top;\n",
              "    }\n",
              "\n",
              "    .dataframe thead th {\n",
              "        text-align: right;\n",
              "    }\n",
              "</style>\n",
              "<table border=\"1\" class=\"dataframe\">\n",
              "  <thead>\n",
              "    <tr style=\"text-align: right;\">\n",
              "      <th></th>\n",
              "      <th>Timestamp</th>\n",
              "      <th>Outdoor Temperature</th>\n",
              "      <th>Outdoor Humidity</th>\n",
              "      <th>Dew Point</th>\n",
              "      <th>Heat Index</th>\n",
              "      <th>Wind Chill</th>\n",
              "      <th>Barometric Pressure</th>\n",
              "      <th>Rain</th>\n",
              "      <th>Wind Speed</th>\n",
              "      <th>Wind Average</th>\n",
              "      <th>Peak Wind</th>\n",
              "      <th>Wind Direction</th>\n",
              "      <th>Indoor Temperature</th>\n",
              "      <th>Indoor Humidity</th>\n",
              "    </tr>\n",
              "  </thead>\n",
              "  <tbody>\n",
              "    <tr>\n",
              "      <th>0</th>\n",
              "      <td>1/18/2017 16:06</td>\n",
              "      <td>47.3</td>\n",
              "      <td>90.0</td>\n",
              "      <td>45.0</td>\n",
              "      <td>47.0</td>\n",
              "      <td>41.0</td>\n",
              "      <td>29.23</td>\n",
              "      <td>7.19</td>\n",
              "      <td>15.53</td>\n",
              "      <td>15.5</td>\n",
              "      <td>30.45</td>\n",
              "      <td>180.0</td>\n",
              "      <td>60.2</td>\n",
              "      <td>51.0</td>\n",
              "    </tr>\n",
              "    <tr>\n",
              "      <th>1</th>\n",
              "      <td>1/18/2017 16:18</td>\n",
              "      <td>47.3</td>\n",
              "      <td>90.0</td>\n",
              "      <td>45.0</td>\n",
              "      <td>47.0</td>\n",
              "      <td>42.0</td>\n",
              "      <td>29.23</td>\n",
              "      <td>7.21</td>\n",
              "      <td>12.43</td>\n",
              "      <td>16.2</td>\n",
              "      <td>30.45</td>\n",
              "      <td>180.0</td>\n",
              "      <td>60.2</td>\n",
              "      <td>51.0</td>\n",
              "    </tr>\n",
              "    <tr>\n",
              "      <th>2</th>\n",
              "      <td>1/18/2017 16:30</td>\n",
              "      <td>47.5</td>\n",
              "      <td>89.0</td>\n",
              "      <td>45.0</td>\n",
              "      <td>48.0</td>\n",
              "      <td>42.0</td>\n",
              "      <td>29.23</td>\n",
              "      <td>7.22</td>\n",
              "      <td>16.16</td>\n",
              "      <td>18.6</td>\n",
              "      <td>30.45</td>\n",
              "      <td>180.0</td>\n",
              "      <td>60.0</td>\n",
              "      <td>51.0</td>\n",
              "    </tr>\n",
              "    <tr>\n",
              "      <th>3</th>\n",
              "      <td>1/18/2017 16:42</td>\n",
              "      <td>47.5</td>\n",
              "      <td>90.0</td>\n",
              "      <td>45.0</td>\n",
              "      <td>48.0</td>\n",
              "      <td>41.0</td>\n",
              "      <td>29.21</td>\n",
              "      <td>7.22</td>\n",
              "      <td>21.75</td>\n",
              "      <td>18.0</td>\n",
              "      <td>30.45</td>\n",
              "      <td>180.0</td>\n",
              "      <td>60.2</td>\n",
              "      <td>52.0</td>\n",
              "    </tr>\n",
              "    <tr>\n",
              "      <th>4</th>\n",
              "      <td>1/18/2017 16:54</td>\n",
              "      <td>47.5</td>\n",
              "      <td>90.0</td>\n",
              "      <td>45.0</td>\n",
              "      <td>48.0</td>\n",
              "      <td>41.0</td>\n",
              "      <td>29.21</td>\n",
              "      <td>7.23</td>\n",
              "      <td>19.26</td>\n",
              "      <td>16.8</td>\n",
              "      <td>30.45</td>\n",
              "      <td>180.0</td>\n",
              "      <td>60.4</td>\n",
              "      <td>53.0</td>\n",
              "    </tr>\n",
              "  </tbody>\n",
              "</table>\n",
              "</div>"
            ],
            "text/plain": [
              "         Timestamp  Outdoor Temperature  Outdoor Humidity  Dew Point  \\\n",
              "0  1/18/2017 16:06                 47.3              90.0       45.0   \n",
              "1  1/18/2017 16:18                 47.3              90.0       45.0   \n",
              "2  1/18/2017 16:30                 47.5              89.0       45.0   \n",
              "3  1/18/2017 16:42                 47.5              90.0       45.0   \n",
              "4  1/18/2017 16:54                 47.5              90.0       45.0   \n",
              "\n",
              "   Heat Index  Wind Chill  Barometric Pressure  Rain  Wind Speed  \\\n",
              "0        47.0        41.0                29.23  7.19       15.53   \n",
              "1        47.0        42.0                29.23  7.21       12.43   \n",
              "2        48.0        42.0                29.23  7.22       16.16   \n",
              "3        48.0        41.0                29.21  7.22       21.75   \n",
              "4        48.0        41.0                29.21  7.23       19.26   \n",
              "\n",
              "   Wind Average  Peak Wind  Wind Direction  Indoor Temperature  \\\n",
              "0          15.5      30.45           180.0                60.2   \n",
              "1          16.2      30.45           180.0                60.2   \n",
              "2          18.6      30.45           180.0                60.0   \n",
              "3          18.0      30.45           180.0                60.2   \n",
              "4          16.8      30.45           180.0                60.4   \n",
              "\n",
              "   Indoor Humidity  \n",
              "0             51.0  \n",
              "1             51.0  \n",
              "2             51.0  \n",
              "3             52.0  \n",
              "4             53.0  "
            ]
          },
          "metadata": {}
        }
      ],
      "execution_count": 18,
      "metadata": {}
    },
    {
      "cell_type": "code",
      "source": [
        "Rhonda_weather_station['Timestamp'] = pd.to_datetime(Rhonda_weather_station['Timestamp'])\n",
        "Rhonda_weather_station = Rhonda_weather_station.set_index('Timestamp')"
      ],
      "outputs": [],
      "execution_count": 19,
      "metadata": {}
    },
    {
      "cell_type": "markdown",
      "source": [
        "## Importing PRISM data\n"
      ],
      "metadata": {}
    },
    {
      "cell_type": "code",
      "source": [
        "PRISM_RhondasHill = pd.read_csv('date_rain_prism.csv')\n",
        "PRISM_RhondasHill.head(3)"
      ],
      "outputs": [
        {
          "output_type": "execute_result",
          "execution_count": 85,
          "data": {
            "text/html": [
              "<div>\n",
              "<style scoped>\n",
              "    .dataframe tbody tr th:only-of-type {\n",
              "        vertical-align: middle;\n",
              "    }\n",
              "\n",
              "    .dataframe tbody tr th {\n",
              "        vertical-align: top;\n",
              "    }\n",
              "\n",
              "    .dataframe thead th {\n",
              "        text-align: right;\n",
              "    }\n",
              "</style>\n",
              "<table border=\"1\" class=\"dataframe\">\n",
              "  <thead>\n",
              "    <tr style=\"text-align: right;\">\n",
              "      <th></th>\n",
              "      <th>Date</th>\n",
              "      <th>ppt (mm)</th>\n",
              "    </tr>\n",
              "  </thead>\n",
              "  <tbody>\n",
              "    <tr>\n",
              "      <th>0</th>\n",
              "      <td>1/1/1981</td>\n",
              "      <td>1.01</td>\n",
              "    </tr>\n",
              "    <tr>\n",
              "      <th>1</th>\n",
              "      <td>1/2/1981</td>\n",
              "      <td>0.00</td>\n",
              "    </tr>\n",
              "    <tr>\n",
              "      <th>2</th>\n",
              "      <td>1/3/1981</td>\n",
              "      <td>1.13</td>\n",
              "    </tr>\n",
              "  </tbody>\n",
              "</table>\n",
              "</div>"
            ],
            "text/plain": [
              "       Date  ppt (mm)\n",
              "0  1/1/1981      1.01\n",
              "1  1/2/1981      0.00\n",
              "2  1/3/1981      1.13"
            ]
          },
          "metadata": {}
        }
      ],
      "execution_count": 85,
      "metadata": {}
    },
    {
      "cell_type": "code",
      "source": [
        "PRISM_RhondasHill['Date'] =  pd.to_datetime(PRISM_RhondasHill['Date'])\n",
        "PRISM_RhondasHill.head()"
      ],
      "outputs": [
        {
          "output_type": "execute_result",
          "execution_count": 86,
          "data": {
            "text/html": [
              "<div>\n",
              "<style scoped>\n",
              "    .dataframe tbody tr th:only-of-type {\n",
              "        vertical-align: middle;\n",
              "    }\n",
              "\n",
              "    .dataframe tbody tr th {\n",
              "        vertical-align: top;\n",
              "    }\n",
              "\n",
              "    .dataframe thead th {\n",
              "        text-align: right;\n",
              "    }\n",
              "</style>\n",
              "<table border=\"1\" class=\"dataframe\">\n",
              "  <thead>\n",
              "    <tr style=\"text-align: right;\">\n",
              "      <th></th>\n",
              "      <th>Date</th>\n",
              "      <th>ppt (mm)</th>\n",
              "    </tr>\n",
              "  </thead>\n",
              "  <tbody>\n",
              "    <tr>\n",
              "      <th>0</th>\n",
              "      <td>1981-01-01</td>\n",
              "      <td>1.01</td>\n",
              "    </tr>\n",
              "    <tr>\n",
              "      <th>1</th>\n",
              "      <td>1981-01-02</td>\n",
              "      <td>0.00</td>\n",
              "    </tr>\n",
              "    <tr>\n",
              "      <th>2</th>\n",
              "      <td>1981-01-03</td>\n",
              "      <td>1.13</td>\n",
              "    </tr>\n",
              "    <tr>\n",
              "      <th>3</th>\n",
              "      <td>1981-01-04</td>\n",
              "      <td>2.11</td>\n",
              "    </tr>\n",
              "    <tr>\n",
              "      <th>4</th>\n",
              "      <td>1981-01-05</td>\n",
              "      <td>0.00</td>\n",
              "    </tr>\n",
              "  </tbody>\n",
              "</table>\n",
              "</div>"
            ],
            "text/plain": [
              "        Date  ppt (mm)\n",
              "0 1981-01-01      1.01\n",
              "1 1981-01-02      0.00\n",
              "2 1981-01-03      1.13\n",
              "3 1981-01-04      2.11\n",
              "4 1981-01-05      0.00"
            ]
          },
          "metadata": {}
        }
      ],
      "execution_count": 86,
      "metadata": {}
    },
    {
      "cell_type": "code",
      "source": [
        "PRISM_RhondasHill = PRISM_RhondasHill[(PRISM_RhondasHill['Date'] > '2019-01-18') & (PRISM_RhondasHill['Date'] <= '2019-02-18')]\n",
        "PRISM_RhondasHill = PRISM_RhondasHill.set_index('Date').cumsum()"
      ],
      "outputs": [],
      "execution_count": 95,
      "metadata": {}
    },
    {
      "cell_type": "markdown",
      "source": [
        "## Plots\n",
        "\n",
        "Attempting to look for antecedent rainfall.\n",
        "\n",
        "Comparing all of the datasets to look for holes and to try and get a consistent intensity/precip for the season"
      ],
      "metadata": {}
    },
    {
      "cell_type": "code",
      "source": [
        "ax01 = MH_weather_station.loc['2019-01-10':'2019-02-26', 'RainFall'].plot()"
      ],
      "outputs": [
        {
          "output_type": "display_data",
          "data": {
            "image/png": "[encoded data removed]",
            "text/plain": [
              "<Figure size 792x288 with 1 Axes>"
            ]
          },
          "metadata": {}
        }
      ],
      "execution_count": 20,
      "metadata": {}
    },
    {
      "cell_type": "code",
      "source": [
        "ax = Rhonda_weather_station.loc['2017-01-18':'2017-02-18', 'Rain'].plot()"
      ],
      "outputs": [
        {
          "output_type": "display_data",
          "data": {
            "image/png": "[encoded data removed]",
            "text/plain": [
              "<Figure size 792x288 with 1 Axes>"
            ]
          },
          "metadata": {}
        }
      ],
      "execution_count": 21,
      "metadata": {}
    },
    {
      "cell_type": "code",
      "source": [
        "ax2 = Rhonda_weather_station.loc['2019-02-01':'2019-03-18', 'Rain'].plot()"
      ],
      "outputs": [
        {
          "output_type": "display_data",
          "data": {
            "image/png": "[encoded data removed]",
            "text/plain": [
              "<Figure size 792x288 with 1 Axes>"
            ]
          },
          "metadata": {}
        }
      ],
      "execution_count": 22,
      "metadata": {}
    },
    {
      "cell_type": "code",
      "source": [
        "ax001 = PRISM_RhondasHill.loc['2017-01-01':'2017-02-28', 'ppt (mm)'].plot()"
      ],
      "outputs": [
        {
          "output_type": "display_data",
          "data": {
            "image/png": "[encoded data removed]",
            "text/plain": [
              "<Figure size 792x288 with 1 Axes>"
            ]
          },
          "metadata": {}
        }
      ],
      "execution_count": 23,
      "metadata": {}
    },
    {
      "cell_type": "code",
      "source": [
        "fig, ax = plt.subplots()\n",
        "ax.plot(MH_weather_station.loc['2019-01-10':'2019-02-26', 'RainFall'])\n",
        "ax.plot(PRISM_RhondasHill)"
      ],
      "outputs": [
        {
          "output_type": "execute_result",
          "execution_count": 102,
          "data": {
            "text/plain": [
              "[<matplotlib.lines.Line2D at 0x295fe51fc50>]"
            ]
          },
          "metadata": {}
        },
        {
          "output_type": "display_data",
          "data": {
            "image/png": "[encoded data removed]",
            "text/plain": [
              "<Figure size 792x288 with 1 Axes>"
            ]
          },
          "metadata": {}
        }
      ],
      "execution_count": 102,
      "metadata": {}
    }
  ],
  "metadata": {
    "kernelspec": {
      "display_name": "Python 3",
      "language": "python",
      "name": "python3"
    },
    "language_info": {
      "codemirror_mode": {
        "name": "ipython",
        "version": 3
      },
      "file_extension": ".py",
      "mimetype": "text/x-python",
      "name": "python",
      "nbconvert_exporter": "python",
      "pygments_lexer": "ipython3",
      "version": "3.7.3"
    },
    "nteract": {
      "version": "0.15.0"
    }
  },
  "nbformat": 4,
  "nbformat_minor": 2
}