{
 "cells": [
  {
   "cell_type": "markdown",
   "metadata": {},
   "source": [
    "# PRISM 2017 & 2019"
   ]
  },
  {
   "cell_type": "code",
   "execution_count": 1,
   "metadata": {},
   "outputs": [],
   "source": [
    "import pandas as pd\n",
    "import numpy as np\n",
    "from datetime import datetime \n",
    "import matplotlib.pyplot as plt\n",
    "import matplotlib.dates as mdates\n",
    "import seaborn as sns\n",
    "%matplotlib inline\n",
    "\n",
    "sns.set(rc={'figure.figsize':(11, 4)})"
   ]
  },
  {
   "cell_type": "code",
   "execution_count": 2,
   "metadata": {},
   "outputs": [
    {
     "data": {
      "text/html": [
       "<div>\n",
       "<style scoped>\n",
       "    .dataframe tbody tr th:only-of-type {\n",
       "        vertical-align: middle;\n",
       "    }\n",
       "\n",
       "    .dataframe tbody tr th {\n",
       "        vertical-align: top;\n",
       "    }\n",
       "\n",
       "    .dataframe thead th {\n",
       "        text-align: right;\n",
       "    }\n",
       "</style>\n",
       "<table border=\"1\" class=\"dataframe\">\n",
       "  <thead>\n",
       "    <tr style=\"text-align: right;\">\n",
       "      <th></th>\n",
       "      <th>Date</th>\n",
       "      <th>ppt (mm)</th>\n",
       "    </tr>\n",
       "  </thead>\n",
       "  <tbody>\n",
       "    <tr>\n",
       "      <th>0</th>\n",
       "      <td>10/1/2018</td>\n",
       "      <td>0.0</td>\n",
       "    </tr>\n",
       "    <tr>\n",
       "      <th>1</th>\n",
       "      <td>10/2/2018</td>\n",
       "      <td>0.0</td>\n",
       "    </tr>\n",
       "    <tr>\n",
       "      <th>2</th>\n",
       "      <td>10/3/2018</td>\n",
       "      <td>0.0</td>\n",
       "    </tr>\n",
       "  </tbody>\n",
       "</table>\n",
       "</div>"
      ],
      "text/plain": [
       "        Date  ppt (mm)\n",
       "0  10/1/2018       0.0\n",
       "1  10/2/2018       0.0\n",
       "2  10/3/2018       0.0"
      ]
     },
     "execution_count": 2,
     "metadata": {},
     "output_type": "execute_result"
    }
   ],
   "source": [
    "PR_17 = pd.read_csv('2017wateryear_prism.csv')\n",
    "#PR_17_CS = pd.read_csv('2017wateryear_prism.csv')\n",
    "PR_17.head(3)"
   ]
  },
  {
   "cell_type": "code",
   "execution_count": 3,
   "metadata": {},
   "outputs": [
    {
     "data": {
      "text/plain": [
       "Date        datetime64[ns]\n",
       "ppt (mm)           float64\n",
       "dtype: object"
      ]
     },
     "execution_count": 3,
     "metadata": {},
     "output_type": "execute_result"
    }
   ],
   "source": [
    "PR_17['Date'] =  pd.to_datetime(PR_17['Date'])\n",
    "#PR_17_CS['Date'] =  pd.to_datetime(PR_17_CS['Date'])\n",
    "PR_17.head()\n",
    "PR_17.dtypes"
   ]
  },
  {
   "cell_type": "code",
   "execution_count": 97,
   "metadata": {},
   "outputs": [
    {
     "data": {
      "text/html": [
       "<div>\n",
       "<style scoped>\n",
       "    .dataframe tbody tr th:only-of-type {\n",
       "        vertical-align: middle;\n",
       "    }\n",
       "\n",
       "    .dataframe tbody tr th {\n",
       "        vertical-align: top;\n",
       "    }\n",
       "\n",
       "    .dataframe thead th {\n",
       "        text-align: right;\n",
       "    }\n",
       "</style>\n",
       "<table border=\"1\" class=\"dataframe\">\n",
       "  <thead>\n",
       "    <tr style=\"text-align: right;\">\n",
       "      <th></th>\n",
       "      <th>Date</th>\n",
       "      <th>ppt (mm)</th>\n",
       "    </tr>\n",
       "  </thead>\n",
       "  <tbody>\n",
       "    <tr>\n",
       "      <th>0</th>\n",
       "      <td>10/1/2018</td>\n",
       "      <td>0.00</td>\n",
       "    </tr>\n",
       "    <tr>\n",
       "      <th>1</th>\n",
       "      <td>10/2/2018</td>\n",
       "      <td>0.00</td>\n",
       "    </tr>\n",
       "    <tr>\n",
       "      <th>2</th>\n",
       "      <td>10/3/2018</td>\n",
       "      <td>3.13</td>\n",
       "    </tr>\n",
       "  </tbody>\n",
       "</table>\n",
       "</div>"
      ],
      "text/plain": [
       "        Date  ppt (mm)\n",
       "0  10/1/2018      0.00\n",
       "1  10/2/2018      0.00\n",
       "2  10/3/2018      3.13"
      ]
     },
     "execution_count": 97,
     "metadata": {},
     "output_type": "execute_result"
    }
   ],
   "source": [
    "PR_19 = pd.read_csv('2019wateryear_prism.csv')\n",
    "#PR_19_CS = pd.read_csv('2019wateryear_prism.csv')\n",
    "PR_19.head(3)"
   ]
  },
  {
   "cell_type": "code",
   "execution_count": 98,
   "metadata": {},
   "outputs": [
    {
     "data": {
      "text/html": [
       "<div>\n",
       "<style scoped>\n",
       "    .dataframe tbody tr th:only-of-type {\n",
       "        vertical-align: middle;\n",
       "    }\n",
       "\n",
       "    .dataframe tbody tr th {\n",
       "        vertical-align: top;\n",
       "    }\n",
       "\n",
       "    .dataframe thead th {\n",
       "        text-align: right;\n",
       "    }\n",
       "</style>\n",
       "<table border=\"1\" class=\"dataframe\">\n",
       "  <thead>\n",
       "    <tr style=\"text-align: right;\">\n",
       "      <th></th>\n",
       "      <th>Date</th>\n",
       "      <th>ppt (mm)</th>\n",
       "    </tr>\n",
       "  </thead>\n",
       "  <tbody>\n",
       "    <tr>\n",
       "      <th>0</th>\n",
       "      <td>2018-10-01</td>\n",
       "      <td>0.00</td>\n",
       "    </tr>\n",
       "    <tr>\n",
       "      <th>1</th>\n",
       "      <td>2018-10-02</td>\n",
       "      <td>0.00</td>\n",
       "    </tr>\n",
       "    <tr>\n",
       "      <th>2</th>\n",
       "      <td>2018-10-03</td>\n",
       "      <td>3.13</td>\n",
       "    </tr>\n",
       "    <tr>\n",
       "      <th>3</th>\n",
       "      <td>2018-10-04</td>\n",
       "      <td>2.72</td>\n",
       "    </tr>\n",
       "    <tr>\n",
       "      <th>4</th>\n",
       "      <td>2018-10-05</td>\n",
       "      <td>3.30</td>\n",
       "    </tr>\n",
       "  </tbody>\n",
       "</table>\n",
       "</div>"
      ],
      "text/plain": [
       "        Date  ppt (mm)\n",
       "0 2018-10-01      0.00\n",
       "1 2018-10-02      0.00\n",
       "2 2018-10-03      3.13\n",
       "3 2018-10-04      2.72\n",
       "4 2018-10-05      3.30"
      ]
     },
     "execution_count": 98,
     "metadata": {},
     "output_type": "execute_result"
    }
   ],
   "source": [
    "PR_19['Date'] =  pd.to_datetime(PR_19['Date'])\n",
    "#PR_19_CS['Date'] =  pd.to_datetime(PR_19_CS['Date'])\n",
    "PR_19.head()"
   ]
  },
  {
   "cell_type": "code",
   "execution_count": 99,
   "metadata": {},
   "outputs": [],
   "source": [
    "PR_17 = PR_17[(PR_17['Date'] > '2018-10-01') & (PR_17['Date'] <= '2018-02-28')]\n",
    "PR_17 = PR_17.set_index('Date')\n",
    "#PR_17_CS = PR_17_CS.set_index('Date').cumsum()\n",
    "PR_19 = PR_19[(PR_19['Date'] > '2019-02-01') & (PR_19['Date'] <= '2019-02-28')]\n",
    "PR_19 = PR_19.set_index('Date')\n",
    "#PR_19_CS = PR_19_CS.set_index('Date').cumsum()\n"
   ]
  },
  {
   "cell_type": "code",
   "execution_count": 100,
   "metadata": {},
   "outputs": [
    {
     "data": {
      "text/plain": [
       "[<matplotlib.lines.Line2D at 0x1eb63524b70>]"
      ]
     },
     "execution_count": 100,
     "metadata": {},
     "output_type": "execute_result"
    },
    {
     "data": {
      "image/png": "[encoded data removed]",
      "text/plain": [
       "<Figure size 792x288 with 1 Axes>"
      ]
     },
     "metadata": {},
     "output_type": "display_data"
    }
   ],
   "source": [
    "#PR_17['Date'] = PRISM_17.index.to_series().dt.strftime('%b')\n",
    "#PRISM_19['Date'] = PRISM_19.index.to_series().dt.strftime('%b')\n",
    "\n",
    "\n",
    "fig, ax = plt.subplots()\n",
    "ax.plot(PR_17.loc['2019-02-01':'2019-02-28', 'ppt (mm)'], linestyle='-')\n",
    "ax.plot(PR_19.loc['2019-02-01':'2019-02-28', 'ppt (mm)'], linestyle='-')\n",
    "#ax.plot(PR_17_CS.loc['2019-02-01':'2019-02-28', 'ppt (mm)'], linestyle='-')\n",
    "#ax.plot(PR_19_CS.loc['2019-02-01':'2019-02-28', 'ppt (mm)'], linestyle='-')\n",
    "\n",
    "\n",
    "\n",
    "#ax.set_ylabel('Daily Consumption (GWh)')\n",
    "#ax.set_title('Jan-Feb 2017 Electricity Consumption')\n",
    "# Set x-axis major ticks to weekly interval, on Mondays\n",
    "#ax.xaxis.set_major_locator(mdates.MonthLocator(bymonth))\n",
    "# Format x-tick labels as 3-letter month name and day number\n",
    "#ax.xaxis.set_major_formatter(mdates.DateFormatter('%b %d'));\n",
    "\n",
    "\n",
    "#ax001 = PR_17.plot(x='Date', y='ppt (mm)')\n",
    "#ax001 = PRISM_17.plot(x='Date', y='ppt (mm)', ax=ax)\n",
    "\n",
    "#ax001 = PR_17.loc['2018-10-01':'2019-02-28', 'ppt (mm)'].plot()\n",
    "#ax001 = PR_19.loc['2018-10-01':'2019-02-28', 'ppt (mm)'].plot()"
   ]
  },
  {
   "cell_type": "code",
   "execution_count": null,
   "metadata": {},
   "outputs": [],
   "source": []
  }
 ],
 "metadata": {
  "kernelspec": {
   "display_name": "Python 3",
   "language": "python",
   "name": "python3"
  },
  "language_info": {
   "codemirror_mode": {
    "name": "ipython",
    "version": 3
   },
   "file_extension": ".py",
   "mimetype": "text/x-python",
   "name": "python",
   "nbconvert_exporter": "python",
   "pygments_lexer": "ipython3",
   "version": "3.7.3"
  }
 },
 "nbformat": 4,
 "nbformat_minor": 2
}
