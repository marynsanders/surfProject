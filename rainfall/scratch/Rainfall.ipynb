{
 "cells": [
  {
   "cell_type": "markdown",
   "metadata": {},
   "source": [
    "# Rainfall Estimates for 2018-19 season\n",
    "\n",
    "looking for the antecedent to the 2019 rainstorm\n"
   ]
  },
  {
   "cell_type": "markdown",
   "metadata": {},
   "source": [
    "## Set up"
   ]
  },
  {
   "cell_type": "code",
   "execution_count": 52,
   "metadata": {},
   "outputs": [],
   "source": [
    "import pandas as pd\n",
    "import numpy as np\n",
    "from datetime import datetime \n",
    "import matplotlib.pyplot as plt\n",
    "import matplotlib.dates as mdates\n",
    "import seaborn as sns\n",
    "%matplotlib inline\n",
    "\n",
    "sns.set(rc={'figure.figsize':(11, 4)})"
   ]
  },
  {
   "cell_type": "markdown",
   "metadata": {},
   "source": [
    "## Importing data from MH weather station\n",
    "\n",
    "CSV contains rain data from Oct 1 2018 to Feb 27 2019\n",
    "\n",
    "Data recorded every 15 minutes"
   ]
  },
  {
   "cell_type": "code",
   "execution_count": 53,
   "metadata": {},
   "outputs": [
    {
     "data": {
      "text/html": [
       "<div>\n",
       "<style scoped>\n",
       "    .dataframe tbody tr th:only-of-type {\n",
       "        vertical-align: middle;\n",
       "    }\n",
       "\n",
       "    .dataframe tbody tr th {\n",
       "        vertical-align: top;\n",
       "    }\n",
       "\n",
       "    .dataframe thead th {\n",
       "        text-align: right;\n",
       "    }\n",
       "</style>\n",
       "<table border=\"1\" class=\"dataframe\">\n",
       "  <thead>\n",
       "    <tr style=\"text-align: right;\">\n",
       "      <th></th>\n",
       "      <th>datetime</th>\n",
       "      <th>RainFall</th>\n",
       "      <th>cumulativeRain</th>\n",
       "    </tr>\n",
       "  </thead>\n",
       "  <tbody>\n",
       "    <tr>\n",
       "      <th>0</th>\n",
       "      <td>2018-10-01 00:00:00</td>\n",
       "      <td>0.0</td>\n",
       "      <td>0.0</td>\n",
       "    </tr>\n",
       "    <tr>\n",
       "      <th>1</th>\n",
       "      <td>2018-10-01 00:15:00</td>\n",
       "      <td>0.0</td>\n",
       "      <td>0.0</td>\n",
       "    </tr>\n",
       "    <tr>\n",
       "      <th>2</th>\n",
       "      <td>2018-10-01 00:30:00</td>\n",
       "      <td>0.0</td>\n",
       "      <td>0.0</td>\n",
       "    </tr>\n",
       "  </tbody>\n",
       "</table>\n",
       "</div>"
      ],
      "text/plain": [
       "              datetime  RainFall  cumulativeRain\n",
       "0  2018-10-01 00:00:00       0.0             0.0\n",
       "1  2018-10-01 00:15:00       0.0             0.0\n",
       "2  2018-10-01 00:30:00       0.0             0.0"
      ]
     },
     "execution_count": 53,
     "metadata": {},
     "output_type": "execute_result"
    }
   ],
   "source": [
    "MH_weather_station = pd.read_csv('JerrysMHRain-2019-02-27.csv')\n",
    "del MH_weather_station['datetime.1']\n",
    "MH_weather_station.head(3)"
   ]
  },
  {
   "cell_type": "code",
   "execution_count": 54,
   "metadata": {},
   "outputs": [
    {
     "data": {
      "text/plain": [
       "datetime          datetime64[ns]\n",
       "RainFall                 float64\n",
       "cumulativeRain           float64\n",
       "dtype: object"
      ]
     },
     "execution_count": 54,
     "metadata": {},
     "output_type": "execute_result"
    }
   ],
   "source": [
    "MH_weather_station['datetime'] =  pd.to_datetime(MH_weather_station['datetime'])\n",
    "MH_weather_station.dtypes"
   ]
  },
  {
   "cell_type": "code",
   "execution_count": 55,
   "metadata": {},
   "outputs": [],
   "source": [
    "MH_weather_station = MH_weather_station[(MH_weather_station['datetime'] > '2019-02-07') & (MH_weather_station['datetime'] <= '2019-02-18')]\n",
    "MH_weather_station = MH_weather_station.set_index('datetime').cumsum()"
   ]
  },
  {
   "cell_type": "markdown",
   "metadata": {},
   "source": [
    "## Importing Rhonda's rain data \n",
    "\n",
    "CSV contains information from Jan 18 2017 to Jul 12 2019 \n",
    "\n",
    "Data recorded every 12 minutes"
   ]
  },
  {
   "cell_type": "code",
   "execution_count": 56,
   "metadata": {},
   "outputs": [
    {
     "data": {
      "text/html": [
       "<div>\n",
       "<style scoped>\n",
       "    .dataframe tbody tr th:only-of-type {\n",
       "        vertical-align: middle;\n",
       "    }\n",
       "\n",
       "    .dataframe tbody tr th {\n",
       "        vertical-align: top;\n",
       "    }\n",
       "\n",
       "    .dataframe thead th {\n",
       "        text-align: right;\n",
       "    }\n",
       "</style>\n",
       "<table border=\"1\" class=\"dataframe\">\n",
       "  <thead>\n",
       "    <tr style=\"text-align: right;\">\n",
       "      <th></th>\n",
       "      <th>Timestamp</th>\n",
       "      <th>Outdoor Temperature</th>\n",
       "      <th>Outdoor Humidity</th>\n",
       "      <th>Dew Point</th>\n",
       "      <th>Heat Index</th>\n",
       "      <th>Wind Chill</th>\n",
       "      <th>Barometric Pressure</th>\n",
       "      <th>Rain</th>\n",
       "      <th>Wind Speed</th>\n",
       "      <th>Wind Average</th>\n",
       "      <th>Peak Wind</th>\n",
       "      <th>Wind Direction</th>\n",
       "      <th>Indoor Temperature</th>\n",
       "      <th>Indoor Humidity</th>\n",
       "    </tr>\n",
       "  </thead>\n",
       "  <tbody>\n",
       "    <tr>\n",
       "      <th>0</th>\n",
       "      <td>1/18/2017 16:06</td>\n",
       "      <td>47.3</td>\n",
       "      <td>90.0</td>\n",
       "      <td>45.0</td>\n",
       "      <td>47.0</td>\n",
       "      <td>41.0</td>\n",
       "      <td>29.23</td>\n",
       "      <td>7.19</td>\n",
       "      <td>15.53</td>\n",
       "      <td>15.5</td>\n",
       "      <td>30.45</td>\n",
       "      <td>180.0</td>\n",
       "      <td>60.2</td>\n",
       "      <td>51.0</td>\n",
       "    </tr>\n",
       "    <tr>\n",
       "      <th>1</th>\n",
       "      <td>1/18/2017 16:18</td>\n",
       "      <td>47.3</td>\n",
       "      <td>90.0</td>\n",
       "      <td>45.0</td>\n",
       "      <td>47.0</td>\n",
       "      <td>42.0</td>\n",
       "      <td>29.23</td>\n",
       "      <td>7.21</td>\n",
       "      <td>12.43</td>\n",
       "      <td>16.2</td>\n",
       "      <td>30.45</td>\n",
       "      <td>180.0</td>\n",
       "      <td>60.2</td>\n",
       "      <td>51.0</td>\n",
       "    </tr>\n",
       "    <tr>\n",
       "      <th>2</th>\n",
       "      <td>1/18/2017 16:30</td>\n",
       "      <td>47.5</td>\n",
       "      <td>89.0</td>\n",
       "      <td>45.0</td>\n",
       "      <td>48.0</td>\n",
       "      <td>42.0</td>\n",
       "      <td>29.23</td>\n",
       "      <td>7.22</td>\n",
       "      <td>16.16</td>\n",
       "      <td>18.6</td>\n",
       "      <td>30.45</td>\n",
       "      <td>180.0</td>\n",
       "      <td>60.0</td>\n",
       "      <td>51.0</td>\n",
       "    </tr>\n",
       "    <tr>\n",
       "      <th>3</th>\n",
       "      <td>1/18/2017 16:42</td>\n",
       "      <td>47.5</td>\n",
       "      <td>90.0</td>\n",
       "      <td>45.0</td>\n",
       "      <td>48.0</td>\n",
       "      <td>41.0</td>\n",
       "      <td>29.21</td>\n",
       "      <td>7.22</td>\n",
       "      <td>21.75</td>\n",
       "      <td>18.0</td>\n",
       "      <td>30.45</td>\n",
       "      <td>180.0</td>\n",
       "      <td>60.2</td>\n",
       "      <td>52.0</td>\n",
       "    </tr>\n",
       "    <tr>\n",
       "      <th>4</th>\n",
       "      <td>1/18/2017 16:54</td>\n",
       "      <td>47.5</td>\n",
       "      <td>90.0</td>\n",
       "      <td>45.0</td>\n",
       "      <td>48.0</td>\n",
       "      <td>41.0</td>\n",
       "      <td>29.21</td>\n",
       "      <td>7.23</td>\n",
       "      <td>19.26</td>\n",
       "      <td>16.8</td>\n",
       "      <td>30.45</td>\n",
       "      <td>180.0</td>\n",
       "      <td>60.4</td>\n",
       "      <td>53.0</td>\n",
       "    </tr>\n",
       "  </tbody>\n",
       "</table>\n",
       "</div>"
      ],
      "text/plain": [
       "         Timestamp  Outdoor Temperature  Outdoor Humidity  Dew Point  \\\n",
       "0  1/18/2017 16:06                 47.3              90.0       45.0   \n",
       "1  1/18/2017 16:18                 47.3              90.0       45.0   \n",
       "2  1/18/2017 16:30                 47.5              89.0       45.0   \n",
       "3  1/18/2017 16:42                 47.5              90.0       45.0   \n",
       "4  1/18/2017 16:54                 47.5              90.0       45.0   \n",
       "\n",
       "   Heat Index  Wind Chill  Barometric Pressure  Rain  Wind Speed  \\\n",
       "0        47.0        41.0                29.23  7.19       15.53   \n",
       "1        47.0        42.0                29.23  7.21       12.43   \n",
       "2        48.0        42.0                29.23  7.22       16.16   \n",
       "3        48.0        41.0                29.21  7.22       21.75   \n",
       "4        48.0        41.0                29.21  7.23       19.26   \n",
       "\n",
       "   Wind Average  Peak Wind  Wind Direction  Indoor Temperature  \\\n",
       "0          15.5      30.45           180.0                60.2   \n",
       "1          16.2      30.45           180.0                60.2   \n",
       "2          18.6      30.45           180.0                60.0   \n",
       "3          18.0      30.45           180.0                60.2   \n",
       "4          16.8      30.45           180.0                60.4   \n",
       "\n",
       "   Indoor Humidity  \n",
       "0             51.0  \n",
       "1             51.0  \n",
       "2             51.0  \n",
       "3             52.0  \n",
       "4             53.0  "
      ]
     },
     "execution_count": 56,
     "metadata": {},
     "output_type": "execute_result"
    }
   ],
   "source": [
    "Rhonda_weather_station = pd.read_csv('AVR_weather_thru042817.csv')\n",
    "Rhonda_weather_station.head()"
   ]
  },
  {
   "cell_type": "code",
   "execution_count": 57,
   "metadata": {},
   "outputs": [],
   "source": [
    "Rhonda_weather_station['Timestamp'] = pd.to_datetime(Rhonda_weather_station['Timestamp'])\n",
    "Rhonda_weather_station = Rhonda_weather_station.set_index('Timestamp')"
   ]
  },
  {
   "cell_type": "markdown",
   "metadata": {},
   "source": [
    "## Importing PRISM data\n",
    "\n",
    "Complete precip dataset from 1981 to 2019\n",
    "\n",
    "Data recorded per day"
   ]
  },
  {
   "cell_type": "code",
   "execution_count": 105,
   "metadata": {},
   "outputs": [
    {
     "data": {
      "text/html": [
       "<div>\n",
       "<style scoped>\n",
       "    .dataframe tbody tr th:only-of-type {\n",
       "        vertical-align: middle;\n",
       "    }\n",
       "\n",
       "    .dataframe tbody tr th {\n",
       "        vertical-align: top;\n",
       "    }\n",
       "\n",
       "    .dataframe thead th {\n",
       "        text-align: right;\n",
       "    }\n",
       "</style>\n",
       "<table border=\"1\" class=\"dataframe\">\n",
       "  <thead>\n",
       "    <tr style=\"text-align: right;\">\n",
       "      <th></th>\n",
       "      <th>Date</th>\n",
       "      <th>ppt (mm)</th>\n",
       "    </tr>\n",
       "  </thead>\n",
       "  <tbody>\n",
       "    <tr>\n",
       "      <th>0</th>\n",
       "      <td>10/1/2018</td>\n",
       "      <td>0.0</td>\n",
       "    </tr>\n",
       "    <tr>\n",
       "      <th>1</th>\n",
       "      <td>10/2/2018</td>\n",
       "      <td>0.0</td>\n",
       "    </tr>\n",
       "    <tr>\n",
       "      <th>2</th>\n",
       "      <td>10/3/2018</td>\n",
       "      <td>0.0</td>\n",
       "    </tr>\n",
       "  </tbody>\n",
       "</table>\n",
       "</div>"
      ],
      "text/plain": [
       "        Date  ppt (mm)\n",
       "0  10/1/2018       0.0\n",
       "1  10/2/2018       0.0\n",
       "2  10/3/2018       0.0"
      ]
     },
     "execution_count": 105,
     "metadata": {},
     "output_type": "execute_result"
    }
   ],
   "source": [
    "PR_17 = pd.read_csv('2017wateryear_prism.csv')\n",
    "PR_17.head(3)"
   ]
  },
  {
   "cell_type": "code",
   "execution_count": 106,
   "metadata": {},
   "outputs": [
    {
     "data": {
      "text/plain": [
       "Date        datetime64[ns]\n",
       "ppt (mm)           float64\n",
       "dtype: object"
      ]
     },
     "execution_count": 106,
     "metadata": {},
     "output_type": "execute_result"
    }
   ],
   "source": [
    "PR_17['Date'] =  pd.to_datetime(PR_17['Date'])\n",
    "PR_17.head()\n",
    "PR_17.dtypes"
   ]
  },
  {
   "cell_type": "code",
   "execution_count": 107,
   "metadata": {},
   "outputs": [
    {
     "data": {
      "text/html": [
       "<div>\n",
       "<style scoped>\n",
       "    .dataframe tbody tr th:only-of-type {\n",
       "        vertical-align: middle;\n",
       "    }\n",
       "\n",
       "    .dataframe tbody tr th {\n",
       "        vertical-align: top;\n",
       "    }\n",
       "\n",
       "    .dataframe thead th {\n",
       "        text-align: right;\n",
       "    }\n",
       "</style>\n",
       "<table border=\"1\" class=\"dataframe\">\n",
       "  <thead>\n",
       "    <tr style=\"text-align: right;\">\n",
       "      <th></th>\n",
       "      <th>Date</th>\n",
       "      <th>ppt (mm)</th>\n",
       "    </tr>\n",
       "  </thead>\n",
       "  <tbody>\n",
       "    <tr>\n",
       "      <th>0</th>\n",
       "      <td>10/1/2018</td>\n",
       "      <td>0.00</td>\n",
       "    </tr>\n",
       "    <tr>\n",
       "      <th>1</th>\n",
       "      <td>10/2/2018</td>\n",
       "      <td>0.00</td>\n",
       "    </tr>\n",
       "    <tr>\n",
       "      <th>2</th>\n",
       "      <td>10/3/2018</td>\n",
       "      <td>3.13</td>\n",
       "    </tr>\n",
       "  </tbody>\n",
       "</table>\n",
       "</div>"
      ],
      "text/plain": [
       "        Date  ppt (mm)\n",
       "0  10/1/2018      0.00\n",
       "1  10/2/2018      0.00\n",
       "2  10/3/2018      3.13"
      ]
     },
     "execution_count": 107,
     "metadata": {},
     "output_type": "execute_result"
    }
   ],
   "source": [
    "PR_19 = pd.read_csv('2019wateryear_prism.csv')\n",
    "PR_19.head(3)"
   ]
  },
  {
   "cell_type": "code",
   "execution_count": 108,
   "metadata": {},
   "outputs": [
    {
     "data": {
      "text/plain": [
       "Date        datetime64[ns]\n",
       "ppt (mm)           float64\n",
       "dtype: object"
      ]
     },
     "execution_count": 108,
     "metadata": {},
     "output_type": "execute_result"
    }
   ],
   "source": [
    "PR_19['Date'] =  pd.to_datetime(PR_19['Date'])\n",
    "PR_19.head()\n",
    "PR_19.dtypes"
   ]
  },
  {
   "cell_type": "code",
   "execution_count": 98,
   "metadata": {},
   "outputs": [],
   "source": [
    "#PR_17 = PR_17[(PR_17['Date'] > '2017-01-18') & (PR_17['Date'] <= '2017-02-28')]\n",
    "#PR_17 = PR_17.set_index('Date').cumsum()\n",
    "#PRISM_19 = PRISM_RhondasHill[(PRISM_RhondasHill['Date'] > '2019-01-18') & (PRISM_RhondasHill['Date'] <= '2019-02-28')]\n",
    "#PR_19 = PR_19.set_index('Date').cumsum()\n"
   ]
  },
  {
   "cell_type": "markdown",
   "metadata": {},
   "source": [
    "## Plots\n",
    "\n",
    "Attempting to look for antecedent rainfall.\n",
    "\n",
    "Comparing all of the datasets to look for holes and to try and get a consistent intensity/precip for the season"
   ]
  },
  {
   "cell_type": "code",
   "execution_count": 10,
   "metadata": {},
   "outputs": [],
   "source": [
    "import matplotlib.dates as mdates"
   ]
  },
  {
   "cell_type": "code",
   "execution_count": 11,
   "metadata": {},
   "outputs": [
    {
     "name": "stderr",
     "output_type": "stream",
     "text": [
      "C:\\Users\\maryn\\Anaconda3\\lib\\site-packages\\pandas\\plotting\\_converter.py:129: FutureWarning: Using an implicitly registered datetime converter for a matplotlib plotting method. The converter was registered by pandas on import. Future versions of pandas will require you to explicitly register matplotlib converters.\n",
      "\n",
      "To register the converters:\n",
      "\t>>> from pandas.plotting import register_matplotlib_converters\n",
      "\t>>> register_matplotlib_converters()\n",
      "  warnings.warn(msg, FutureWarning)\n"
     ]
    },
    {
     "data": {
      "image/png": "[encoded data removed]",
      "text/plain": [
       "<Figure size 432x288 with 1 Axes>"
      ]
     },
     "metadata": {
      "needs_background": "light"
     },
     "output_type": "display_data"
    }
   ],
   "source": [
    "days = mdates.DayLocator()\n",
    "hours = mdates.HourLocator()\n",
    "\n",
    "fig, ax01 = plt.subplots()\n",
    "ax01.plot(MH_weather_station.loc['2019-02-12':'2019-02-18', 'RainFall'])\n",
    "plt.title('Mountain House Weather Station - 02/01/19 thru 02/18/19')\n",
    "\n",
    "ax01.xaxis.set_major_locator(days)\n",
    "ax01.xaxis.set_minor_locator(hours)\n",
    "ax01.xaxis.set_major_formatter(mdates.DateFormatter('%m''%d'))\n",
    "\n",
    "# rotates and right aligns the x labels, and moves the bottom of the\n",
    "# axes up to make room for them\n",
    "fig.autofmt_xdate()"
   ]
  },
  {
   "cell_type": "code",
   "execution_count": 12,
   "metadata": {},
   "outputs": [
    {
     "data": {
      "image/png": "[encoded data removed]",
      "text/plain": [
       "<Figure size 432x288 with 1 Axes>"
      ]
     },
     "metadata": {
      "needs_background": "light"
     },
     "output_type": "display_data"
    }
   ],
   "source": [
    "ax = Rhonda_weather_station.loc['2017-01-18':'2017-02-18', 'Rain'].plot()"
   ]
  },
  {
   "cell_type": "code",
   "execution_count": 13,
   "metadata": {},
   "outputs": [
    {
     "data": {
      "image/png": "[encoded data removed]",
      "text/plain": [
       "<Figure size 432x288 with 1 Axes>"
      ]
     },
     "metadata": {
      "needs_background": "light"
     },
     "output_type": "display_data"
    }
   ],
   "source": [
    "ax2 = Rhonda_weather_station.loc['2019-02-01':'2019-03-18', 'Rain'].plot()"
   ]
  },
  {
   "cell_type": "code",
   "execution_count": 109,
   "metadata": {},
   "outputs": [
    {
     "data": {
      "text/plain": [
       "[<matplotlib.lines.Line2D at 0x21dba253b38>]"
      ]
     },
     "execution_count": 109,
     "metadata": {},
     "output_type": "execute_result"
    },
    {
     "data": {
      "image/png": "[encoded data removed]",
      "text/plain": [
       "<Figure size 792x288 with 1 Axes>"
      ]
     },
     "metadata": {},
     "output_type": "display_data"
    }
   ],
   "source": [
    "#PR_17['Date'] = PRISM_17.index.to_series().dt.strftime('%b')\n",
    "#PRISM_19['Date'] = PRISM_19.index.to_series().dt.strftime('%b')\n",
    "\n",
    "\n",
    "fig, ax = plt.subplots()\n",
    "ax.plot(PR_17.loc['2018-10-01':'2019-02-28', 'ppt (mm)'], linestyle='-')\n",
    "ax.plot(PR_19.loc['2018-10-01':'2019-02-28', 'ppt (mm)'], linestyle='-')\n",
    "\n",
    "#ax.set_ylabel('Daily Consumption (GWh)')\n",
    "#ax.set_title('Jan-Feb 2017 Electricity Consumption')\n",
    "# Set x-axis major ticks to weekly interval, on Mondays\n",
    "#ax.xaxis.set_major_locator(mdates.MonthLocator(bymonth))\n",
    "# Format x-tick labels as 3-letter month name and day number\n",
    "#ax.xaxis.set_major_formatter(mdates.DateFormatter('%b %d'));\n",
    "\n",
    "\n",
    "#ax001 = PR_17.plot(x='Date', y='ppt (mm)')\n",
    "#ax001 = PRISM_17.plot(x='Date', y='ppt (mm)', ax=ax)\n",
    "\n",
    "#ax001 = PR_17.loc['2018-10-01':'2019-02-28', 'ppt (mm)'].plot()\n",
    "#ax001 = PR_19.loc['2018-10-01':'2019-02-28', 'ppt (mm)'].plot()"
   ]
  },
  {
   "cell_type": "code",
   "execution_count": 15,
   "metadata": {},
   "outputs": [
    {
     "data": {
      "text/plain": [
       "[<matplotlib.lines.Line2D at 0x1ec36a9bbe0>]"
      ]
     },
     "execution_count": 15,
     "metadata": {},
     "output_type": "execute_result"
    },
    {
     "data": {
      "image/png": "[encoded data removed]",
      "text/plain": [
       "<Figure size 432x288 with 1 Axes>"
      ]
     },
     "metadata": {
      "needs_background": "light"
     },
     "output_type": "display_data"
    }
   ],
   "source": [
    "fig, ax = plt.subplots()\n",
    "ax.plot(MH_weather_station.loc['2019-01-18':'2019-02-28', 'RainFall'])\n",
    "ax.plot(PRISM_RhondasHill)"
   ]
  },
  {
   "cell_type": "code",
   "execution_count": null,
   "metadata": {},
   "outputs": [],
   "source": []
  }
 ],
 "metadata": {
  "kernelspec": {
   "display_name": "Python 3",
   "language": "python",
   "name": "python3"
  },
  "language_info": {
   "codemirror_mode": {
    "name": "ipython",
    "version": 3
   },
   "file_extension": ".py",
   "mimetype": "text/x-python",
   "name": "python",
   "nbconvert_exporter": "python",
   "pygments_lexer": "ipython3",
   "version": "3.7.3"
  },
  "nteract": {
   "version": "0.15.0"
  }
 },
 "nbformat": 4,
 "nbformat_minor": 2
}
