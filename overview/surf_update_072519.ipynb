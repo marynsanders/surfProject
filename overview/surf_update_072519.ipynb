{
  "cells": [
    {
      "cell_type": "markdown",
      "source": [
        "I was hoping to submit my update after meeting with my adviser, but something came up and our meeting is getting pushed back a bit. \n",
        "\n",
        "Last week and this week, I have been working a lot on my computer, with the help of a fellow researcher, digitizing a past geologic map of the region. This involved using ArcGIS to make polygons, overlay a contour map, and also create a text file to go with it describing each unit. Then having the map digitized, I was able to overlay the landslide file to figure out what unit each of the landslides were on. \n",
        "\n",
        "I was able to then use JupyterLab to plot and correlate landslide lengths, areas, and slopes to each of the geologic units. Unfortunately, there was not much of a correlation; for example, one geologic unit did not produce significantly larger landslide areas than the others. When plotting number of landslides per unit, there was a trend; however, this was then debunked when we normalized each density by the area that they covered, and soon realized that there was only a trend because that geologic unit had the most area. This was a huge bummer, but also there might be some flaws in the geologic map that we digitized. The map was made in 1971 based on aerial imagery and walking around on the ground surface, so there may be some error in the lines that the author had drawn. I am thinking that I could set a buffer at the geologic unit boundaries and only plot the landslides that are a certain distance away from the boundaries - ones that are more confidently in the confines of what he mapped out. \n",
        "\n",
        "It's been great getting more familiar with coding and using ArcGIS over the past few weeks. There are lots of questions that I've been able to get answered, and many that I'm still working on and learning about. I've also learned that data management takes a lot of time. It has been so frustrating spending hours organizing data and files to be just right, only to come back to them the next day and be so confused on what I did with everything the day before. \n",
        "\n",
        "Moving forward, I am hoping to be able to plot and compare the 2016-17 and 2018-19 rainfall seasons to see if there are any differences between the rainstorms that could've caused a difference in the landslide frequency on the hill slope. I will also be conducting an X-Ray Diffraction and Scanning Electron Microscope analysis of the bedrock I collected from the hill to see if there are any clay differences between my focus area and an adjacent one. "
      ],
      "metadata": {}
    }
  ],
  "metadata": {
    "kernel_info": {
      "name": "node_nteract"
    },
    "language_info": {
      "name": "javascript",
      "version": "10.2.0",
      "mimetype": "application/javascript",
      "file_extension": ".js"
    },
    "kernelspec": {
      "name": "node_nteract",
      "language": "javascript",
      "display_name": "Node.js (nteract)"
    },
    "nteract": {
      "version": "0.14.4"
    }
  },
  "nbformat": 4,
  "nbformat_minor": 0
}