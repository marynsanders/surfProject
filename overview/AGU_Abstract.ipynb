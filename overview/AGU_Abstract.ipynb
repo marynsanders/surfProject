{
  "cells": [
    {
      "cell_type": "markdown",
      "source": [
        "# AGU Abstract\n",
        "\n",
        "Maryn Sanders\n",
        "\n",
        "## Lithologic control on shallow landslide erosion processes\n",
        "\n",
        "- overarching questions\n",
        "- methods\n",
        "- results\n",
        "- why it's interesting or worthwhile\n",
        "- read bill's advice from 117 about abstracts\n"
      ],
      "metadata": {}
    },
    {
      "cell_type": "markdown",
      "source": [
        "## Overarching questions\n",
        "\n",
        "- where am i \n",
        "- turbidite layers, different lithologies\n",
        "- lots of landslides\n",
        "- caused by two rainstorms\n",
        "- all hills look different\n",
        "\n",
        "Antelope Valley Ranch lies on the Great Valley Sequence which is composed of turbidite layers. The overarching focus area extends over all components of the sequence, including: sandstone, shales, conglomgerate, and interbedded sandstone-shale layer. Each of these lithologies produces  different wavelengths of channel incision in the hills.\n",
        "\n",
        "\n",
        "## Methods\n",
        "\n",
        "- aerial imaging\n",
        "- lidar data\n",
        "- surveying\n",
        "\n",
        "## Results\n",
        "\n",
        "- Preliminary results\n",
        "\n",
        "## Why interesting/worthwhile\n",
        "- able to understand landscapes at a finer scale\n",
        "- how erosional processes will evolve as weather warms and rainstorms are more intense"
      ],
      "metadata": {}
    },
    {
      "cell_type": "code",
      "source": [],
      "outputs": [],
      "execution_count": null,
      "metadata": {}
    }
  ],
  "metadata": {
    "kernelspec": {
      "display_name": "Python 3",
      "language": "python",
      "name": "python3"
    },
    "language_info": {
      "codemirror_mode": {
        "name": "ipython",
        "version": 3
      },
      "file_extension": ".py",
      "mimetype": "text/x-python",
      "name": "python",
      "nbconvert_exporter": "python",
      "pygments_lexer": "ipython3",
      "version": "3.7.3"
    },
    "nteract": {
      "version": "0.14.4"
    }
  },
  "nbformat": 4,
  "nbformat_minor": 2
}