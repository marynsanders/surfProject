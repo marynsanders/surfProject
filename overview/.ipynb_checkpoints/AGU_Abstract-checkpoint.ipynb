{
 "cells": [
  {
   "cell_type": "markdown",
   "metadata": {},
   "source": [
    "# AGU Abstract\n",
    "\n",
    "Maryn Sanders \n",
    "\n",
    "## Lithologic control on shallow landslide erosion processes\n",
    "\n",
    "- overarching questions\n",
    "- methods\n",
    "- results\n",
    "- why it's interesting or worthwhile\n",
    "- read bill's advice from 117 about abstracts\n"
   ]
  },
  {
   "cell_type": "markdown",
   "metadata": {},
   "source": [
    "## Overarching questions\n",
    "\n",
    "- where am i \n",
    "- turbidite layers, different lithologies\n",
    "- lots of landslides\n",
    "- caused by two rainstorms\n",
    "- all hills look different\n",
    "\n",
    "Antelope Valley Ranch lies on the Great Valley Sequence which is composed of turbidite layers of sandstone, shales, conglomgerate, and interbedded sandstone-shale layers. Each of these lithologies produces different wavelengths of channel incision in the hills, as observed by LiDAR and aerial imaging. This region experienced two significant storms over the past three years; a larger one in 2017 caused over 400 landslides, and then another in 2019 caused over ### landslides, all in new regions. \n",
    "\n",
    "\n",
    "## Methods\n",
    "\n",
    "- aerial imaging\n",
    "- lidar data\n",
    "- surveying\n",
    "\n",
    "## Results\n",
    "\n",
    "- Preliminary results\n",
    "\n",
    "## Why interesting/worthwhile\n",
    "- able to understand landscapes at a finer scale\n",
    "- how erosional processes will evolve as weather warms and rainstorms are more intense"
   ]
  },
  {
   "cell_type": "code",
   "execution_count": null,
   "metadata": {},
   "outputs": [],
   "source": []
  }
 ],
 "metadata": {
  "kernelspec": {
   "display_name": "Python 3",
   "language": "python",
   "name": "python3"
  },
  "language_info": {
   "codemirror_mode": {
    "name": "ipython",
    "version": 3
   },
   "file_extension": ".py",
   "mimetype": "text/x-python",
   "name": "python",
   "nbconvert_exporter": "python",
   "pygments_lexer": "ipython3",
   "version": "3.7.3"
  },
  "nteract": {
   "version": "0.14.4"
  }
 },
 "nbformat": 4,
 "nbformat_minor": 2
}
