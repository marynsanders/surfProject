{
 "cells": [
  {
   "cell_type": "markdown",
   "metadata": {},
   "source": [
    "# AGU Abstract\n",
    "\n",
    "## Lithologic control on shallow landslide erosion processes\n",
    "\n",
    "Maryn Sanders "
   ]
  },
  {
   "cell_type": "markdown",
   "metadata": {},
   "source": [
    "### where\n",
    "\n",
    "- turbidite layers, different lithologies\n",
    "- lots of landslides\n",
    "- caused by two rainstorms\n",
    "- all hills look different\n",
    "\n",
    "Antelope Valley Ranch lies on the Great Valley Sequence which is composed of turbidite layers of sandstone, shales, conglomgerate, and interbedded sandstone-shale layers. Each of these lithologies produces different wavelengths of channel incision in the hills, as observed by LiDAR and aerial imaging. \n",
    "\n",
    "### rain differences\n",
    "\n",
    "- bigger storm in 2017 than 2019 \n",
    "- more intense? \n",
    "- new spots for slides\n",
    "- going to be able to do this analysis???????\n",
    "**need to get antecedent rainfall\n",
    "\n",
    "This region experienced two significant storms over the past three years; a larger one in 2017 caused over 400 landslides, and then another in 2019 caused over ### landslides. To understand why the 2017 storm did not trigger slides that a smaller rainstorm in 2019 triggered, analyzed local rain measurements taken, as well as regional data, and PRISM data. \n",
    "\n",
    "\n",
    "### comparing structure / lithology\n",
    "\n",
    "- aerial imaging\n",
    "- lidar data\n",
    "- surveying\n",
    "- trend for landslide location vs lithology? \n",
    "- \n",
    "\n",
    "### why interesting / worthwhile\n",
    "\n",
    "- able to understand landscapes at a finer scale\n",
    "- how erosional processes will evolve as weather warms and rainstorms are more intense"
   ]
  },
  {
   "cell_type": "code",
   "execution_count": null,
   "metadata": {},
   "outputs": [],
   "source": []
  }
 ],
 "metadata": {
  "kernelspec": {
   "display_name": "Python 3",
   "language": "python",
   "name": "python3"
  },
  "language_info": {
   "codemirror_mode": {
    "name": "ipython",
    "version": 3
   },
   "file_extension": ".py",
   "mimetype": "text/x-python",
   "name": "python",
   "nbconvert_exporter": "python",
   "pygments_lexer": "ipython3",
   "version": "3.7.3"
  },
  "nteract": {
   "version": "0.14.4"
  }
 },
 "nbformat": 4,
 "nbformat_minor": 2
}
