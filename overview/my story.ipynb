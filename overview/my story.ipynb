{
  "cells": [
    {
      "cell_type": "markdown",
      "source": [
        "# An analysis of the geologic control on hillslope erosion\n",
        "\n",
        "## summer 2019\n",
        "\n",
        "an independent project by Maryn Sanders, sponsored by SURF and inspired by Bill Dietrich and Mariel Nelson\n",
        "\n",
        "<i><small>aka an analysis of the mysterious rills, and then some</small></i>"
      ],
      "metadata": {}
    },
    {
      "cell_type": "markdown",
      "source": [
        "### first mishaps\n",
        "\n",
        "The beginning of summer was as blank as a new, plastic wrapped canvas gets. There were so many opportunities that I could run with, and of course I had chosen the wrong ones initially; however, if I didn't choose the wrong ones I would have never gotten to the right way without a bucket of luck.\n",
        "\n",
        "My first expedition to the field site was with Alex Bryk, who took me up Fig Creek and Rhonda's Hill to get a visual grip on the landscape around me. It was a great introduction, but also took me down a path for a different week where I lost sight of my main research questions: \n",
        "    \n",
        "        What are the rills? \n",
        "        \n",
        "        Why does Rhonda's Hill behave differently from Mountain House? \n",
        "        \n",
        "        Why did the landslides happen where they did in 2019, and not 2017? \n",
        "        \n",
        "Geometric differences between the 2017 and 2019 slides? More concentrated rainfall in 2019 (rain burst)? \n",
        " \n",
        "Sorry, I needed to spurt that out.\n",
        " \n",
        "So from that week on, there was a bit of thought running around the spacing differences between FC, RH, and MH; it was as if I was dancing around my original questions in these odd tangents. This happened for a few weeks, but it was a great learning lesson for me. There was a trip taken with Mong-Han, where I went and practiced using the guelph permeameter to the South of Rhonda's Hill. Just after that trip, I was so excited to be able to implement it with Mariel on my next trip up to the field; however, the idea was shot down by Bill - and for good reason. It didn't really make sense to use it over the summer while the ground was completely dry... We went out to do some rough <b>surveys</b> of the 2019 landslides, as well as collect soil samples. Our plan was to hammer down a small core to collect a known volume, but the ground was as hard as a rock, so I just collected clods of clay, which turned out to be a bit useless. \n",
        "\n",
        "This has become a common theme with most of the ideas that I have involving my project. It's frustrating because I really wish that I was able to have more to do and more to show for myself at the conference, but after many conversations with Mariel I'm realizing that I really don't <i>need</i> to produce such a significant amount. I'm going out to the field, I'm learning new tools, and I'm developing a story that I will publish in the spring - I'm doing enough.\n"
      ],
      "metadata": {}
    },
    {
      "cell_type": "markdown",
      "source": [
        "### gaining footing\n",
        "\n",
        "After choosing multiple wrong paths, I finally met with Bill. The meeting we had really made me feel like my project had purpose again. I was going crazy before, and now there was clarity. With that clarity came awe of regaining control on my original questions and realizing where they could take me. \n",
        "\n",
        "Bill even gave me a list of things to do. Things couldn't get much more clear, yet things were going to take time - lots of time. I guess that's the part that bums me out the most. I want to be efficient and have so many things to do all at once so I feel productive... but I'm realizing that I'm never going to feel that with this project, until I'm scrambling to finish my thesis in May. \n",
        "\n",
        "From there, I realized that I should do some more work, make some more maps, and get more familiar with <b>ArcGIS</b>. This provided me with a decent amount of work, that I am still continuing: \n",
        "\n",
        "        Finding all of the 2019 landslides\n",
        "        Observing erosional differences in the 2017 landslides\n",
        "        Quantifying the geometry of the landslides\n",
        "\n",
        "Quantifying the geometry will also lead to my first few figures that I can start making. Mariel has been a great help in learning <b>GitHub</b>, Anaconda, Atom, nteract, ETC. It's been so amazing to have her around. Although I feel like I'm taking away from her work, it only takes a step back to understand the impact of my own independent project (which really isn't that much in the grand scheme of things, and I'm lucky that I have so much to work with.)\n",
        "\n",
        "\n",
        "Then I took another (girls!) trip out to my field site with Fran and Mariel, where Fran and I finished surveying the rest of the landslides and were going to attempt to quantify <b>root density</b>. This was much more complex than I was anticipating, and I decided not to do it on this trip since the roots were incredibly small; however, I will go back to make another attempt\n",
        "\n",
        "        Draw out tape to make grid and take photo\n",
        "        Count\n",
        "        Measure root width with micrometer\n",
        "\n",
        "We also walked up the canyon on the south side of the hill and looked for exposed bedding in the creek. I was stoked to find alternating sandstone and shale, as well as a very large sandstone layer towards the top, which is <s>exactly</s> quite similar to what the old geologic map Bill explained to me in our meeting that ensued a day or two later. It was exciting! There is probably a geologic control on the landslides, which is great. I have the old geologic map to study, as well as the task of playing with rainfall data to try and make a case for increased rainfall at Rhonda's Hill versus everywhere else. Bill also introduced the thoughts of \n",
        "\n",
        "        coring the alluvial fan\n",
        "        running seismic lines across the hill\n",
        "        and using a drone to 3D image the fine scale topography of the landslides. \n",
        "\n",
        "Exciting stuff! Now, being able to explain the hydrologic differences will be a bit harder, and will include: \n",
        "\n",
        "        dye above the landslides to see if the water flows out directly from the top of the paws\n",
        "        piezometers / sprinkler ? \n",
        "        clay comparison\n",
        "        more accurate root density\n",
        "        guelph permeameter\n",
        "        \n",
        "This will all have to wait until winter, except for the clay comparison! I'm hoping to be able to start the <b>XRD</b> process and finish by the SURF conference, which might be stretching it, but I think I can do it. If not, I can also discuss that I am in the process and what I'm hoping the results will tell me. "
      ],
      "metadata": {}
    },
    {
      "cell_type": "markdown",
      "source": [
        "### bringing it all together\n",
        "\n",
        "        AGU abstract\n",
        "        surf conference"
      ],
      "metadata": {}
    }
  ],
  "metadata": {
    "kernel_info": {
      "name": "node_nteract"
    },
    "language_info": {
      "name": "javascript",
      "version": "10.2.0",
      "mimetype": "application/javascript",
      "file_extension": ".js"
    },
    "kernelspec": {
      "name": "node_nteract",
      "language": "javascript",
      "display_name": "Node.js (nteract)"
    },
    "nteract": {
      "version": "0.14.4"
    }
  },
  "nbformat": 4,
  "nbformat_minor": 0
}